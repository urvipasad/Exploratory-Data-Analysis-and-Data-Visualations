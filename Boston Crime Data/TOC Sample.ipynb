{
 "cells": [
  {
   "cell_type": "markdown",
   "metadata": {},
   "source": [
    "<h1>Table of Contents Sample"
   ]
  },
  {
   "cell_type": "markdown",
   "metadata": {},
   "source": [
    "## Table of Contents\n",
    "\n",
    "1. [Section 1](#section1)<br>\n",
    "    - 1.1 [Subsection 1](#section101)<br>\n",
    "    - 1.2 [Subsection 2](#section102)<br>\n",
    "    - 1.3 [Subsection 3](#section103)<br>\n",
    "    - 1.4 [Subsection 4](#section104)<br>\n",
    "2. [Section 2](#section2)<br>\n",
    "    - 2.1 [Subsection 1](#section201)<br>\n",
    "    - 2.2 [Subsection 2](#section202)<br>\n",
    "    - 2.3 [Subsection 3](#section203)<br>\n",
    "    - 2.4 [Subsection 4](#section204)<br>"
   ]
  },
  {
   "cell_type": "markdown",
   "metadata": {},
   "source": [
    "<a id=section1></a>\n",
    "## 1. Section 1"
   ]
  },
  {
   "cell_type": "markdown",
   "metadata": {},
   "source": [
    "<a id=section101></a>\n",
    "#### 1.1 Subsection 1"
   ]
  },
  {
   "cell_type": "markdown",
   "metadata": {},
   "source": [
    "<a id=section102></a>\n",
    "#### 1.2 Subsection 2"
   ]
  },
  {
   "cell_type": "markdown",
   "metadata": {},
   "source": [
    "<a id=section103></a>\n",
    "#### 1.3 Subsection 3"
   ]
  },
  {
   "cell_type": "markdown",
   "metadata": {},
   "source": [
    "<a id=section104></a>\n",
    "#### 1.4 Subsection 4"
   ]
  },
  {
   "cell_type": "markdown",
   "metadata": {},
   "source": [
    "<a id=section2></a>\n",
    "## 2. Section 2"
   ]
  },
  {
   "cell_type": "markdown",
   "metadata": {},
   "source": [
    "<a id=section201></a>\n",
    "#### 2.1 Subsection 1"
   ]
  },
  {
   "cell_type": "markdown",
   "metadata": {},
   "source": [
    "<a id=section202></a>\n",
    "#### 2.1 Subsection 2"
   ]
  },
  {
   "cell_type": "markdown",
   "metadata": {},
   "source": [
    "<a id=section203></a>\n",
    "#### 2.1 Subsection 3"
   ]
  },
  {
   "cell_type": "markdown",
   "metadata": {},
   "source": [
    "<a id=section204></a>\n",
    "#### 2.1 Subsection 4"
   ]
  }
 ],
 "metadata": {
  "kernelspec": {
   "display_name": "Python 3",
   "language": "python",
   "name": "python3"
  },
  "language_info": {
   "codemirror_mode": {
    "name": "ipython",
    "version": 3
   },
   "file_extension": ".py",
   "mimetype": "text/x-python",
   "name": "python",
   "nbconvert_exporter": "python",
   "pygments_lexer": "ipython3",
   "version": "3.7.3"
  }
 },
 "nbformat": 4,
 "nbformat_minor": 2
}
